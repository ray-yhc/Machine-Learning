{
 "cells": [
  {
   "cell_type": "code",
   "execution_count": 2,
   "metadata": {},
   "outputs": [],
   "source": [
    "#https://www.tensorflow.org/tutorials/keras/regression?hl=ko\n",
    "\n",
    "from __future__ import absolute_import, division, print_function, unicode_literals, unicode_literals\n",
    "\n",
    "\n",
    "import pathlib\n",
    "\n",
    "import matplotlib.pyplot as plt\n",
    "import pandas as pd\n",
    "import seaborn as sns\n",
    "\n",
    "import tensorflow as tf\n",
    "from tensorflow import keras\n",
    "from tensorflow.keras import layers\n",
    "\n",
    "import pydot"
   ]
  },
  {
   "cell_type": "code",
   "execution_count": 3,
   "metadata": {},
   "outputs": [
    {
     "data": {
      "text/plain": [
       "'/root/.keras/datasets/auto-mpg.data'"
      ]
     },
     "execution_count": 3,
     "metadata": {},
     "output_type": "execute_result"
    }
   ],
   "source": [
    "dataset_path = keras.utils.get_file(\"auto-mpg.data\", \"http://archive.ics.uci.edu/ml/machine-learning-databases/auto-mpg/auto-mpg.data\")\n",
    "dataset_path"
   ]
  },
  {
   "cell_type": "code",
   "execution_count": 4,
   "metadata": {},
   "outputs": [
    {
     "data": {
      "text/html": [
       "<div>\n",
       "<style scoped>\n",
       "    .dataframe tbody tr th:only-of-type {\n",
       "        vertical-align: middle;\n",
       "    }\n",
       "\n",
       "    .dataframe tbody tr th {\n",
       "        vertical-align: top;\n",
       "    }\n",
       "\n",
       "    .dataframe thead th {\n",
       "        text-align: right;\n",
       "    }\n",
       "</style>\n",
       "<table border=\"1\" class=\"dataframe\">\n",
       "  <thead>\n",
       "    <tr style=\"text-align: right;\">\n",
       "      <th></th>\n",
       "      <th>MPG</th>\n",
       "      <th>Cylinders</th>\n",
       "      <th>Displacement</th>\n",
       "      <th>Horsepower</th>\n",
       "      <th>Weight</th>\n",
       "      <th>Acceleration</th>\n",
       "      <th>Model Year</th>\n",
       "      <th>Origin</th>\n",
       "    </tr>\n",
       "  </thead>\n",
       "  <tbody>\n",
       "    <tr>\n",
       "      <th>393</th>\n",
       "      <td>27.0</td>\n",
       "      <td>4</td>\n",
       "      <td>140.0</td>\n",
       "      <td>86.0</td>\n",
       "      <td>2790.0</td>\n",
       "      <td>15.6</td>\n",
       "      <td>82</td>\n",
       "      <td>1</td>\n",
       "    </tr>\n",
       "    <tr>\n",
       "      <th>394</th>\n",
       "      <td>44.0</td>\n",
       "      <td>4</td>\n",
       "      <td>97.0</td>\n",
       "      <td>52.0</td>\n",
       "      <td>2130.0</td>\n",
       "      <td>24.6</td>\n",
       "      <td>82</td>\n",
       "      <td>2</td>\n",
       "    </tr>\n",
       "    <tr>\n",
       "      <th>395</th>\n",
       "      <td>32.0</td>\n",
       "      <td>4</td>\n",
       "      <td>135.0</td>\n",
       "      <td>84.0</td>\n",
       "      <td>2295.0</td>\n",
       "      <td>11.6</td>\n",
       "      <td>82</td>\n",
       "      <td>1</td>\n",
       "    </tr>\n",
       "    <tr>\n",
       "      <th>396</th>\n",
       "      <td>28.0</td>\n",
       "      <td>4</td>\n",
       "      <td>120.0</td>\n",
       "      <td>79.0</td>\n",
       "      <td>2625.0</td>\n",
       "      <td>18.6</td>\n",
       "      <td>82</td>\n",
       "      <td>1</td>\n",
       "    </tr>\n",
       "    <tr>\n",
       "      <th>397</th>\n",
       "      <td>31.0</td>\n",
       "      <td>4</td>\n",
       "      <td>119.0</td>\n",
       "      <td>82.0</td>\n",
       "      <td>2720.0</td>\n",
       "      <td>19.4</td>\n",
       "      <td>82</td>\n",
       "      <td>1</td>\n",
       "    </tr>\n",
       "  </tbody>\n",
       "</table>\n",
       "</div>"
      ],
      "text/plain": [
       "      MPG  Cylinders  Displacement  Horsepower  Weight  Acceleration  \\\n",
       "393  27.0          4         140.0        86.0  2790.0          15.6   \n",
       "394  44.0          4          97.0        52.0  2130.0          24.6   \n",
       "395  32.0          4         135.0        84.0  2295.0          11.6   \n",
       "396  28.0          4         120.0        79.0  2625.0          18.6   \n",
       "397  31.0          4         119.0        82.0  2720.0          19.4   \n",
       "\n",
       "     Model Year  Origin  \n",
       "393          82       1  \n",
       "394          82       2  \n",
       "395          82       1  \n",
       "396          82       1  \n",
       "397          82       1  "
      ]
     },
     "execution_count": 4,
     "metadata": {},
     "output_type": "execute_result"
    }
   ],
   "source": [
    "column_names = ['MPG','Cylinders','Displacement','Horsepower','Weight',\n",
    "                'Acceleration', 'Model Year', 'Origin']\n",
    "raw_dataset = pd.read_csv(dataset_path, names=column_names,\n",
    "                      na_values = \"?\", comment='\\t',\n",
    "                      sep=\" \", skipinitialspace=True)\n",
    "\n",
    "dataset = raw_dataset.copy()\n",
    "dataset.tail()"
   ]
  },
  {
   "cell_type": "code",
   "execution_count": 5,
   "metadata": {},
   "outputs": [
    {
     "data": {
      "text/plain": [
       "398"
      ]
     },
     "execution_count": 5,
     "metadata": {},
     "output_type": "execute_result"
    }
   ],
   "source": [
    "len(dataset)"
   ]
  },
  {
   "cell_type": "code",
   "execution_count": 6,
   "metadata": {},
   "outputs": [
    {
     "data": {
      "text/plain": [
       "0      1\n",
       "1      1\n",
       "2      1\n",
       "3      1\n",
       "4      1\n",
       "      ..\n",
       "393    1\n",
       "394    2\n",
       "395    1\n",
       "396    1\n",
       "397    1\n",
       "Name: Origin, Length: 392, dtype: int64"
      ]
     },
     "execution_count": 6,
     "metadata": {},
     "output_type": "execute_result"
    }
   ],
   "source": [
    "dataset = dataset.dropna() ## 불량데이터 제거\n",
    "dataset.pop('Origin')"
   ]
  },
  {
   "cell_type": "code",
   "execution_count": 7,
   "metadata": {},
   "outputs": [
    {
     "data": {
      "text/plain": [
       "392"
      ]
     },
     "execution_count": 7,
     "metadata": {},
     "output_type": "execute_result"
    }
   ],
   "source": [
    "len(dataset)"
   ]
  },
  {
   "cell_type": "code",
   "execution_count": 8,
   "metadata": {},
   "outputs": [],
   "source": [
    "#training set과 test set으로 분리\n",
    "\n",
    "train_dataset = dataset.sample(frac=0.8, random_state=0)\n",
    "test_dataset = dataset.drop(train_dataset.index)"
   ]
  },
  {
   "cell_type": "code",
   "execution_count": 9,
   "metadata": {},
   "outputs": [
    {
     "data": {
      "text/plain": [
       "(314, 78)"
      ]
     },
     "execution_count": 9,
     "metadata": {},
     "output_type": "execute_result"
    }
   ],
   "source": [
    "len(train_dataset), len(test_dataset)"
   ]
  },
  {
   "cell_type": "code",
   "execution_count": 10,
   "metadata": {},
   "outputs": [],
   "source": [
    "# 타깃(레이블) 분리하기 : MPG\n",
    "train_labels = train_dataset.pop(\"MPG\") #MPG(연비)는 예측하려는 값(y)이므로 nomalizaion안함\n",
    "test_labels = test_dataset.pop(\"MPG\")"
   ]
  },
  {
   "cell_type": "code",
   "execution_count": 11,
   "metadata": {},
   "outputs": [],
   "source": [
    "#normalization\n",
    "\n",
    "train_stats = train_dataset.describe()\n",
    "train_stats = train_stats.T\n",
    "train_stats\n",
    "\n",
    "def norm(x):\n",
    "    return (x - train_stats['mean'])/train_stats['std']\n",
    "\n",
    "normed_train_data = norm(train_dataset)\n",
    "normed_test_data = norm(test_dataset)"
   ]
  },
  {
   "cell_type": "code",
   "execution_count": 12,
   "metadata": {},
   "outputs": [
    {
     "data": {
      "text/html": [
       "<div>\n",
       "<style scoped>\n",
       "    .dataframe tbody tr th:only-of-type {\n",
       "        vertical-align: middle;\n",
       "    }\n",
       "\n",
       "    .dataframe tbody tr th {\n",
       "        vertical-align: top;\n",
       "    }\n",
       "\n",
       "    .dataframe thead th {\n",
       "        text-align: right;\n",
       "    }\n",
       "</style>\n",
       "<table border=\"1\" class=\"dataframe\">\n",
       "  <thead>\n",
       "    <tr style=\"text-align: right;\">\n",
       "      <th></th>\n",
       "      <th>Cylinders</th>\n",
       "      <th>Displacement</th>\n",
       "      <th>Horsepower</th>\n",
       "      <th>Weight</th>\n",
       "      <th>Acceleration</th>\n",
       "      <th>Model Year</th>\n",
       "    </tr>\n",
       "  </thead>\n",
       "  <tbody>\n",
       "    <tr>\n",
       "      <th>146</th>\n",
       "      <td>-0.869348</td>\n",
       "      <td>-1.009459</td>\n",
       "      <td>-0.784052</td>\n",
       "      <td>-1.025303</td>\n",
       "      <td>-0.379759</td>\n",
       "      <td>-0.516397</td>\n",
       "    </tr>\n",
       "    <tr>\n",
       "      <th>282</th>\n",
       "      <td>-0.869348</td>\n",
       "      <td>-0.530218</td>\n",
       "      <td>-0.442811</td>\n",
       "      <td>-0.118796</td>\n",
       "      <td>0.624102</td>\n",
       "      <td>0.843910</td>\n",
       "    </tr>\n",
       "    <tr>\n",
       "      <th>69</th>\n",
       "      <td>1.483887</td>\n",
       "      <td>1.482595</td>\n",
       "      <td>1.447140</td>\n",
       "      <td>1.736877</td>\n",
       "      <td>-0.738281</td>\n",
       "      <td>-1.060519</td>\n",
       "    </tr>\n",
       "    <tr>\n",
       "      <th>378</th>\n",
       "      <td>-0.869348</td>\n",
       "      <td>-0.865687</td>\n",
       "      <td>-1.099044</td>\n",
       "      <td>-1.025303</td>\n",
       "      <td>-0.308055</td>\n",
       "      <td>1.660094</td>\n",
       "    </tr>\n",
       "    <tr>\n",
       "      <th>331</th>\n",
       "      <td>-0.869348</td>\n",
       "      <td>-0.942365</td>\n",
       "      <td>-0.994047</td>\n",
       "      <td>-1.001603</td>\n",
       "      <td>0.875068</td>\n",
       "      <td>1.115971</td>\n",
       "    </tr>\n",
       "  </tbody>\n",
       "</table>\n",
       "</div>"
      ],
      "text/plain": [
       "     Cylinders  Displacement  Horsepower    Weight  Acceleration  Model Year\n",
       "146  -0.869348     -1.009459   -0.784052 -1.025303     -0.379759   -0.516397\n",
       "282  -0.869348     -0.530218   -0.442811 -0.118796      0.624102    0.843910\n",
       "69    1.483887      1.482595    1.447140  1.736877     -0.738281   -1.060519\n",
       "378  -0.869348     -0.865687   -1.099044 -1.025303     -0.308055    1.660094\n",
       "331  -0.869348     -0.942365   -0.994047 -1.001603      0.875068    1.115971"
      ]
     },
     "execution_count": 12,
     "metadata": {},
     "output_type": "execute_result"
    }
   ],
   "source": [
    "normed_train_data.head()"
   ]
  },
  {
   "cell_type": "code",
   "execution_count": 13,
   "metadata": {},
   "outputs": [],
   "source": [
    "# Modeling\n",
    "\n",
    "inputs = keras.Input(shape=(train_dataset.shape[1])) #데이터셋의 열 개수 => 행렬의 크기 결정!\n",
    "h = layers.Dense(64)(inputs) #중간레이어\n",
    "h = layers.Dense(32)(h)\n",
    "outputs = layers.Dense(1)(h) # 출력 값 개수 -> 1개!"
   ]
  },
  {
   "cell_type": "code",
   "execution_count": 14,
   "metadata": {},
   "outputs": [],
   "source": [
    "model = keras.Model(inputs=inputs,outputs=outputs)"
   ]
  },
  {
   "cell_type": "code",
   "execution_count": 15,
   "metadata": {},
   "outputs": [],
   "source": [
    "model.compile(loss = 'mse', #LR , NLR에서는 mse(평균 제곱 오차)나 mae(평균 절대 오차) 사용\n",
    "              optimizer = tf.keras.optimizers.RMSprop(0.001))"
   ]
  },
  {
   "cell_type": "code",
   "execution_count": 16,
   "metadata": {},
   "outputs": [
    {
     "name": "stdout",
     "output_type": "stream",
     "text": [
      "Model: \"model\"\n",
      "_________________________________________________________________\n",
      "Layer (type)                 Output Shape              Param #   \n",
      "=================================================================\n",
      "input_1 (InputLayer)         [(None, 6)]               0         \n",
      "_________________________________________________________________\n",
      "dense (Dense)                (None, 64)                448       \n",
      "_________________________________________________________________\n",
      "dense_1 (Dense)              (None, 32)                2080      \n",
      "_________________________________________________________________\n",
      "dense_2 (Dense)              (None, 1)                 33        \n",
      "=================================================================\n",
      "Total params: 2,561\n",
      "Trainable params: 2,561\n",
      "Non-trainable params: 0\n",
      "_________________________________________________________________\n",
      "\n",
      "\n",
      "\n",
      "Failed to import pydot. You must install pydot and graphviz for `pydotprint` to work.\n"
     ]
    }
   ],
   "source": [
    "#모델 확인\n",
    "model.summary() #표로 출력\n",
    "print('\\n\\n')\n",
    "keras.utils.plot_model(model,'my.png', show_shapes=True) #이미지로 출력, 왜안될까...?"
   ]
  },
  {
   "cell_type": "code",
   "execution_count": 17,
   "metadata": {},
   "outputs": [
    {
     "name": "stdout",
     "output_type": "stream",
     "text": [
      "WARNING:tensorflow:Falling back from v2 loop because of error: Failed to find data adapter that can handle input: <class 'pandas.core.frame.DataFrame'>, <class 'NoneType'>\n"
     ]
    },
    {
     "data": {
      "text/plain": [
       "array([[ 0.0250907 ],\n",
       "       [-0.2456204 ],\n",
       "       [ 0.45350972],\n",
       "       [-0.19872035],\n",
       "       [-0.3954921 ]], dtype=float32)"
      ]
     },
     "execution_count": 17,
     "metadata": {},
     "output_type": "execute_result"
    }
   ],
   "source": [
    "#훈련 전 출력값 확인\n",
    "example_batch = normed_train_data[:5] #train data 중 5개 가져오기\n",
    "example_result = model.predict(example_batch) # .predict로 y값 계산\n",
    "example_result #물론 아직 실제값과는 차이가 크다."
   ]
  },
  {
   "cell_type": "code",
   "execution_count": 20,
   "metadata": {},
   "outputs": [
    {
     "name": "stdout",
     "output_type": "stream",
     "text": [
      "WARNING:tensorflow:Falling back from v2 loop because of error: Failed to find data adapter that can handle input: <class 'pandas.core.frame.DataFrame'>, <class 'NoneType'>\n",
      "Train on 251 samples, validate on 63 samples\n",
      "Epoch 1/10\n",
      "251/251 [==============================] - 0s 428us/sample - loss: 12.5149 - val_loss: 11.8512\n",
      "Epoch 2/10\n",
      "251/251 [==============================] - 0s 435us/sample - loss: 12.5003 - val_loss: 12.2393\n",
      "Epoch 3/10\n",
      "251/251 [==============================] - 0s 460us/sample - loss: 12.5264 - val_loss: 12.3005\n",
      "Epoch 4/10\n",
      "251/251 [==============================] - 0s 394us/sample - loss: 12.5306 - val_loss: 12.6627\n",
      "Epoch 5/10\n",
      "251/251 [==============================] - 0s 377us/sample - loss: 12.3933 - val_loss: 13.0499\n",
      "Epoch 6/10\n",
      "251/251 [==============================] - 0s 67us/sample - loss: 12.6985 - val_loss: 12.2816\n",
      "Epoch 7/10\n",
      "251/251 [==============================] - 0s 79us/sample - loss: 12.4789 - val_loss: 11.6373\n",
      "Epoch 8/10\n",
      "251/251 [==============================] - 0s 382us/sample - loss: 12.3621 - val_loss: 12.1560\n",
      "Epoch 9/10\n",
      "251/251 [==============================] - 0s 386us/sample - loss: 12.5839 - val_loss: 11.9977\n",
      "Epoch 10/10\n",
      "251/251 [==============================] - 0s 388us/sample - loss: 12.6664 - val_loss: 12.4868\n"
     ]
    }
   ],
   "source": [
    "#모델 훈련\n",
    "\n",
    "EPOCHS = 10 # 1epoch = 모든 데이터 1바퀴\n",
    "\n",
    "history = model.fit(\n",
    "    normed_train_data, \n",
    "    train_labels , \n",
    "    epochs=EPOCHS ,  \n",
    "    validation_split = 0.2 #과적합 여부 판단을 위해 분리해놓은 데이터\n",
    ")"
   ]
  },
  {
   "cell_type": "code",
   "execution_count": 22,
   "metadata": {},
   "outputs": [
    {
     "name": "stdout",
     "output_type": "stream",
     "text": [
      "WARNING:tensorflow:Falling back from v2 loop because of error: Failed to find data adapter that can handle input: <class 'pandas.core.frame.DataFrame'>, <class 'NoneType'>\n",
      "Train on 251 samples, validate on 63 samples\n",
      "Epoch 1/10\n",
      "251/251 [==============================] - 0s 434us/sample - loss: 12.5860 - val_loss: 11.8194\n",
      "Epoch 2/10\n",
      "251/251 [==============================] - 0s 396us/sample - loss: 12.4279 - val_loss: 12.2442\n",
      "Epoch 3/10\n",
      "251/251 [==============================] - 0s 414us/sample - loss: 12.6978 - val_loss: 11.7779\n",
      "Epoch 4/10\n",
      "251/251 [==============================] - 0s 146us/sample - loss: 12.5195 - val_loss: 12.0513\n",
      "Epoch 5/10\n",
      "251/251 [==============================] - 0s 645us/sample - loss: 12.5467 - val_loss: 11.9501\n",
      "Epoch 6/10\n",
      "251/251 [==============================] - 0s 59us/sample - loss: 12.6082 - val_loss: 12.1394\n",
      "Epoch 7/10\n",
      "251/251 [==============================] - 0s 385us/sample - loss: 12.3757 - val_loss: 13.0988\n",
      "Epoch 8/10\n",
      "251/251 [==============================] - 0s 400us/sample - loss: 12.6442 - val_loss: 12.2197\n",
      "Epoch 9/10\n",
      "251/251 [==============================] - 0s 391us/sample - loss: 12.4226 - val_loss: 11.6461\n",
      "Epoch 10/10\n",
      "251/251 [==============================] - 0s 72us/sample - loss: 12.5507 - val_loss: 12.0512\n"
     ]
    },
    {
     "data": {
      "text/plain": [
       "<tensorflow.python.keras.callbacks.History at 0x7f3d80783590>"
      ]
     },
     "execution_count": 22,
     "metadata": {},
     "output_type": "execute_result"
    }
   ],
   "source": [
    "# patience : n회 이상 val_loss가 줄지 않을때 stop\n",
    "early_stop = keras.callbacks.EarlyStopping(monitor='val_loss' , patience=10)\n",
    "\n",
    "model.fit(\n",
    "    normed_train_data, \n",
    "    train_labels , \n",
    "    epochs=EPOCHS ,  \n",
    "    validation_split = 0.2 , #과적합 여부 판단을 위해 분리해놓은 데이터\n",
    "    callbacks=[early_stop]\n",
    ")"
   ]
  },
  {
   "cell_type": "code",
   "execution_count": 25,
   "metadata": {},
   "outputs": [
    {
     "name": "stdout",
     "output_type": "stream",
     "text": [
      "WARNING:tensorflow:Falling back from v2 loop because of error: Failed to find data adapter that can handle input: <class 'pandas.core.frame.DataFrame'>, <class 'NoneType'>\n",
      "78/78 - 0s - loss: 10.4814\n"
     ]
    }
   ],
   "source": [
    "loss = model.evaluate(normed_test_data, test_labels, verbose=2)"
   ]
  },
  {
   "cell_type": "code",
   "execution_count": null,
   "metadata": {},
   "outputs": [],
   "source": []
  },
  {
   "cell_type": "code",
   "execution_count": 26,
   "metadata": {},
   "outputs": [
    {
     "name": "stdout",
     "output_type": "stream",
     "text": [
      "WARNING:tensorflow:Falling back from v2 loop because of error: Failed to find data adapter that can handle input: <class 'pandas.core.frame.DataFrame'>, <class 'NoneType'>\n"
     ]
    },
    {
     "data": {
      "image/png": "[encoded data removed]",
      "text/plain": [
       "<Figure size 432x288 with 1 Axes>"
      ]
     },
     "metadata": {
      "needs_background": "light"
     },
     "output_type": "display_data"
    }
   ],
   "source": [
    "#예측\n",
    "\n",
    "\n",
    "test_predictions = model.predict(normed_test_data).flatten()\n",
    "\n",
    "plt.scatter(test_labels, test_predictions)\n",
    "plt.xlabel('True Values [MPG]')\n",
    "plt.ylabel('Predictions [MPG]')\n",
    "plt.axis('equal')\n",
    "plt.axis('square')\n",
    "plt.xlim([0,plt.xlim()[1]])\n",
    "plt.ylim([0,plt.ylim()[1]])\n",
    "_ = plt.plot([-100, 100], [-100, 100])\n"
   ]
  },
  {
   "cell_type": "code",
   "execution_count": 27,
   "metadata": {},
   "outputs": [
    {
     "data": {
      "text/plain": [
       "<matplotlib.collections.PathCollection at 0x7f3d6068b790>"
      ]
     },
     "execution_count": 27,
     "metadata": {},
     "output_type": "execute_result"
    },
    {
     "data": {
      "image/png": "[encoded data removed]",
      "text/plain": [
       "<Figure size 720x504 with 6 Axes>"
      ]
     },
     "metadata": {
      "needs_background": "light"
     },
     "output_type": "display_data"
    }
   ],
   "source": [
    "plt.figure(figsize=(10,7))\n",
    "plt.subplot(231)\n",
    "plt.scatter(test_dataset['Cylinders'], test_labels)\n",
    "plt.scatter(test_dataset['Cylinders'], test_predictions)\n",
    "plt.subplot(232)\n",
    "plt.scatter(test_dataset['Displacement'], test_labels)\n",
    "plt.scatter(test_dataset['Displacement'], test_predictions)\n",
    "plt.subplot(233)\n",
    "plt.scatter(test_dataset['Horsepower'], test_labels)\n",
    "plt.scatter(test_dataset['Horsepower'], test_predictions)\n",
    "plt.subplot(234)\n",
    "plt.scatter(test_dataset['Weight'], test_labels)\n",
    "plt.scatter(test_dataset['Weight'], test_predictions)\n",
    "plt.subplot(235)\n",
    "plt.scatter(test_dataset['Acceleration'], test_labels)\n",
    "plt.scatter(test_dataset['Acceleration'], test_predictions)\n",
    "plt.subplot(236)\n",
    "plt.scatter(test_dataset['Model Year'], test_labels)\n",
    "plt.scatter(test_dataset['Model Year'], test_predictions)"
   ]
  },
  {
   "cell_type": "code",
   "execution_count": null,
   "metadata": {},
   "outputs": [],
   "source": []
  }
 ],
 "metadata": {
  "kernelspec": {
   "display_name": "Python 3",
   "language": "python",
   "name": "python3"
  },
  "language_info": {
   "codemirror_mode": {
    "name": "ipython",
    "version": 3
   },
   "file_extension": ".py",
   "mimetype": "text/x-python",
   "name": "python",
   "nbconvert_exporter": "python",
   "pygments_lexer": "ipython3",
   "version": "3.7.4"
  }
 },
 "nbformat": 4,
 "nbformat_minor": 4
}
