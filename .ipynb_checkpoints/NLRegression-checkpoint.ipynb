{
 "cells": [
  {
   "cell_type": "code",
   "execution_count": 1,
   "metadata": {},
   "outputs": [],
   "source": [
    "#https://www.tensorflow.org/tutorials/keras/regression?hl=ko\n",
    "\n",
    "from __future__ import absolute_import, division, print_function, unicode_literals, unicode_literals\n",
    "\n",
    "\n",
    "import pathlib\n",
    "\n",
    "import matplotlib.pyplot as plt\n",
    "import pandas as pd\n",
    "import seaborn as sns\n",
    "\n",
    "import tensorflow as tf\n",
    "from tensorflow import keras\n",
    "from tensorflow.keras import layers\n",
    "\n",
    "import pydot"
   ]
  },
  {
   "cell_type": "code",
   "execution_count": 2,
   "metadata": {},
   "outputs": [
    {
     "data": {
      "text/plain": [
       "'/root/.keras/datasets/auto-mpg.data'"
      ]
     },
     "execution_count": 2,
     "metadata": {},
     "output_type": "execute_result"
    }
   ],
   "source": [
    "dataset_path = keras.utils.get_file(\"auto-mpg.data\", \"http://archive.ics.uci.edu/ml/machine-learning-databases/auto-mpg/auto-mpg.data\")\n",
    "dataset_path"
   ]
  },
  {
   "cell_type": "code",
   "execution_count": 3,
   "metadata": {},
   "outputs": [
    {
     "data": {
      "text/html": [
       "<div>\n",
       "<style scoped>\n",
       "    .dataframe tbody tr th:only-of-type {\n",
       "        vertical-align: middle;\n",
       "    }\n",
       "\n",
       "    .dataframe tbody tr th {\n",
       "        vertical-align: top;\n",
       "    }\n",
       "\n",
       "    .dataframe thead th {\n",
       "        text-align: right;\n",
       "    }\n",
       "</style>\n",
       "<table border=\"1\" class=\"dataframe\">\n",
       "  <thead>\n",
       "    <tr style=\"text-align: right;\">\n",
       "      <th></th>\n",
       "      <th>MPG</th>\n",
       "      <th>Cylinders</th>\n",
       "      <th>Displacement</th>\n",
       "      <th>Horsepower</th>\n",
       "      <th>Weight</th>\n",
       "      <th>Acceleration</th>\n",
       "      <th>Model Year</th>\n",
       "      <th>Origin</th>\n",
       "    </tr>\n",
       "  </thead>\n",
       "  <tbody>\n",
       "    <tr>\n",
       "      <th>393</th>\n",
       "      <td>27.0</td>\n",
       "      <td>4</td>\n",
       "      <td>140.0</td>\n",
       "      <td>86.0</td>\n",
       "      <td>2790.0</td>\n",
       "      <td>15.6</td>\n",
       "      <td>82</td>\n",
       "      <td>1</td>\n",
       "    </tr>\n",
       "    <tr>\n",
       "      <th>394</th>\n",
       "      <td>44.0</td>\n",
       "      <td>4</td>\n",
       "      <td>97.0</td>\n",
       "      <td>52.0</td>\n",
       "      <td>2130.0</td>\n",
       "      <td>24.6</td>\n",
       "      <td>82</td>\n",
       "      <td>2</td>\n",
       "    </tr>\n",
       "    <tr>\n",
       "      <th>395</th>\n",
       "      <td>32.0</td>\n",
       "      <td>4</td>\n",
       "      <td>135.0</td>\n",
       "      <td>84.0</td>\n",
       "      <td>2295.0</td>\n",
       "      <td>11.6</td>\n",
       "      <td>82</td>\n",
       "      <td>1</td>\n",
       "    </tr>\n",
       "    <tr>\n",
       "      <th>396</th>\n",
       "      <td>28.0</td>\n",
       "      <td>4</td>\n",
       "      <td>120.0</td>\n",
       "      <td>79.0</td>\n",
       "      <td>2625.0</td>\n",
       "      <td>18.6</td>\n",
       "      <td>82</td>\n",
       "      <td>1</td>\n",
       "    </tr>\n",
       "    <tr>\n",
       "      <th>397</th>\n",
       "      <td>31.0</td>\n",
       "      <td>4</td>\n",
       "      <td>119.0</td>\n",
       "      <td>82.0</td>\n",
       "      <td>2720.0</td>\n",
       "      <td>19.4</td>\n",
       "      <td>82</td>\n",
       "      <td>1</td>\n",
       "    </tr>\n",
       "  </tbody>\n",
       "</table>\n",
       "</div>"
      ],
      "text/plain": [
       "      MPG  Cylinders  Displacement  Horsepower  Weight  Acceleration  \\\n",
       "393  27.0          4         140.0        86.0  2790.0          15.6   \n",
       "394  44.0          4          97.0        52.0  2130.0          24.6   \n",
       "395  32.0          4         135.0        84.0  2295.0          11.6   \n",
       "396  28.0          4         120.0        79.0  2625.0          18.6   \n",
       "397  31.0          4         119.0        82.0  2720.0          19.4   \n",
       "\n",
       "     Model Year  Origin  \n",
       "393          82       1  \n",
       "394          82       2  \n",
       "395          82       1  \n",
       "396          82       1  \n",
       "397          82       1  "
      ]
     },
     "execution_count": 3,
     "metadata": {},
     "output_type": "execute_result"
    }
   ],
   "source": [
    "column_names = ['MPG','Cylinders','Displacement','Horsepower','Weight',\n",
    "                'Acceleration', 'Model Year', 'Origin']\n",
    "raw_dataset = pd.read_csv(dataset_path, names=column_names,\n",
    "                      na_values = \"?\", comment='\\t',\n",
    "                      sep=\" \", skipinitialspace=True)\n",
    "\n",
    "dataset = raw_dataset.copy()\n",
    "dataset.tail()"
   ]
  },
  {
   "cell_type": "code",
   "execution_count": 4,
   "metadata": {},
   "outputs": [
    {
     "data": {
      "text/plain": [
       "398"
      ]
     },
     "execution_count": 4,
     "metadata": {},
     "output_type": "execute_result"
    }
   ],
   "source": [
    "len(dataset)"
   ]
  },
  {
   "cell_type": "code",
   "execution_count": 5,
   "metadata": {},
   "outputs": [
    {
     "data": {
      "text/plain": [
       "0      1\n",
       "1      1\n",
       "2      1\n",
       "3      1\n",
       "4      1\n",
       "      ..\n",
       "393    1\n",
       "394    2\n",
       "395    1\n",
       "396    1\n",
       "397    1\n",
       "Name: Origin, Length: 392, dtype: int64"
      ]
     },
     "execution_count": 5,
     "metadata": {},
     "output_type": "execute_result"
    }
   ],
   "source": [
    "dataset = dataset.dropna() ## 불량데이터 제거\n",
    "dataset.pop('Origin')"
   ]
  },
  {
   "cell_type": "code",
   "execution_count": 6,
   "metadata": {},
   "outputs": [
    {
     "data": {
      "text/plain": [
       "392"
      ]
     },
     "execution_count": 6,
     "metadata": {},
     "output_type": "execute_result"
    }
   ],
   "source": [
    "len(dataset)"
   ]
  },
  {
   "cell_type": "code",
   "execution_count": 7,
   "metadata": {},
   "outputs": [],
   "source": [
    "#training set과 test set으로 분리\n",
    "\n",
    "train_dataset = dataset.sample(frac=0.8, random_state=0)\n",
    "test_dataset = dataset.drop(train_dataset.index)"
   ]
  },
  {
   "cell_type": "code",
   "execution_count": 8,
   "metadata": {},
   "outputs": [
    {
     "data": {
      "text/plain": [
       "(314, 78)"
      ]
     },
     "execution_count": 8,
     "metadata": {},
     "output_type": "execute_result"
    }
   ],
   "source": [
    "len(train_dataset), len(test_dataset)"
   ]
  },
  {
   "cell_type": "code",
   "execution_count": 9,
   "metadata": {},
   "outputs": [],
   "source": [
    "# 타깃(레이블) 분리하기 : MPG\n",
    "train_labels = train_dataset.pop(\"MPG\") #MPG(연비)는 예측하려는 값(y)이므로 nomalizaion안함\n",
    "test_labels = test_dataset.pop(\"MPG\")"
   ]
  },
  {
   "cell_type": "code",
   "execution_count": 10,
   "metadata": {},
   "outputs": [],
   "source": [
    "#normalization\n",
    "\n",
    "train_stats = train_dataset.describe()\n",
    "train_stats = train_stats.T\n",
    "train_stats\n",
    "\n",
    "def norm(x):\n",
    "    return (x - train_stats['mean'])/train_stats['std']\n",
    "\n",
    "normed_train_data = norm(train_dataset)\n",
    "normed_test_data = norm(test_dataset)"
   ]
  },
  {
   "cell_type": "code",
   "execution_count": 11,
   "metadata": {},
   "outputs": [
    {
     "data": {
      "text/html": [
       "<div>\n",
       "<style scoped>\n",
       "    .dataframe tbody tr th:only-of-type {\n",
       "        vertical-align: middle;\n",
       "    }\n",
       "\n",
       "    .dataframe tbody tr th {\n",
       "        vertical-align: top;\n",
       "    }\n",
       "\n",
       "    .dataframe thead th {\n",
       "        text-align: right;\n",
       "    }\n",
       "</style>\n",
       "<table border=\"1\" class=\"dataframe\">\n",
       "  <thead>\n",
       "    <tr style=\"text-align: right;\">\n",
       "      <th></th>\n",
       "      <th>Cylinders</th>\n",
       "      <th>Displacement</th>\n",
       "      <th>Horsepower</th>\n",
       "      <th>Weight</th>\n",
       "      <th>Acceleration</th>\n",
       "      <th>Model Year</th>\n",
       "    </tr>\n",
       "  </thead>\n",
       "  <tbody>\n",
       "    <tr>\n",
       "      <th>146</th>\n",
       "      <td>-0.869348</td>\n",
       "      <td>-1.009459</td>\n",
       "      <td>-0.784052</td>\n",
       "      <td>-1.025303</td>\n",
       "      <td>-0.379759</td>\n",
       "      <td>-0.516397</td>\n",
       "    </tr>\n",
       "    <tr>\n",
       "      <th>282</th>\n",
       "      <td>-0.869348</td>\n",
       "      <td>-0.530218</td>\n",
       "      <td>-0.442811</td>\n",
       "      <td>-0.118796</td>\n",
       "      <td>0.624102</td>\n",
       "      <td>0.843910</td>\n",
       "    </tr>\n",
       "    <tr>\n",
       "      <th>69</th>\n",
       "      <td>1.483887</td>\n",
       "      <td>1.482595</td>\n",
       "      <td>1.447140</td>\n",
       "      <td>1.736877</td>\n",
       "      <td>-0.738281</td>\n",
       "      <td>-1.060519</td>\n",
       "    </tr>\n",
       "    <tr>\n",
       "      <th>378</th>\n",
       "      <td>-0.869348</td>\n",
       "      <td>-0.865687</td>\n",
       "      <td>-1.099044</td>\n",
       "      <td>-1.025303</td>\n",
       "      <td>-0.308055</td>\n",
       "      <td>1.660094</td>\n",
       "    </tr>\n",
       "    <tr>\n",
       "      <th>331</th>\n",
       "      <td>-0.869348</td>\n",
       "      <td>-0.942365</td>\n",
       "      <td>-0.994047</td>\n",
       "      <td>-1.001603</td>\n",
       "      <td>0.875068</td>\n",
       "      <td>1.115971</td>\n",
       "    </tr>\n",
       "  </tbody>\n",
       "</table>\n",
       "</div>"
      ],
      "text/plain": [
       "     Cylinders  Displacement  Horsepower    Weight  Acceleration  Model Year\n",
       "146  -0.869348     -1.009459   -0.784052 -1.025303     -0.379759   -0.516397\n",
       "282  -0.869348     -0.530218   -0.442811 -0.118796      0.624102    0.843910\n",
       "69    1.483887      1.482595    1.447140  1.736877     -0.738281   -1.060519\n",
       "378  -0.869348     -0.865687   -1.099044 -1.025303     -0.308055    1.660094\n",
       "331  -0.869348     -0.942365   -0.994047 -1.001603      0.875068    1.115971"
      ]
     },
     "execution_count": 11,
     "metadata": {},
     "output_type": "execute_result"
    }
   ],
   "source": [
    "normed_train_data.head()"
   ]
  },
  {
   "cell_type": "code",
   "execution_count": 12,
   "metadata": {},
   "outputs": [],
   "source": [
    "# Modeling\n",
    "\n",
    "inputs = keras.Input(shape=(train_dataset.shape[1])) #데이터셋의 열 개수 => 행렬의 크기 결정!\n",
    "h = layers.Dense(64)(inputs) #중간레이어\n",
    "h = layers.Activation('relu')(h)\n",
    "h = layers.Dense(32)(h)\n",
    "outputs = layers.Dense(1)(h) # 출력 값 개수 -> 1개!"
   ]
  },
  {
   "cell_type": "code",
   "execution_count": 13,
   "metadata": {},
   "outputs": [],
   "source": [
    "model = keras.Model(inputs=inputs,outputs=outputs)"
   ]
  },
  {
   "cell_type": "code",
   "execution_count": 14,
   "metadata": {},
   "outputs": [],
   "source": [
    "model.compile(loss = 'mse', optimizer = tf.keras.optimizers.RMSprop(0.001))"
   ]
  },
  {
   "cell_type": "code",
   "execution_count": 15,
   "metadata": {},
   "outputs": [
    {
     "name": "stdout",
     "output_type": "stream",
     "text": [
      "Model: \"model\"\n",
      "_________________________________________________________________\n",
      "Layer (type)                 Output Shape              Param #   \n",
      "=================================================================\n",
      "input_1 (InputLayer)         [(None, 6)]               0         \n",
      "_________________________________________________________________\n",
      "dense (Dense)                (None, 64)                448       \n",
      "_________________________________________________________________\n",
      "activation (Activation)      (None, 64)                0         \n",
      "_________________________________________________________________\n",
      "dense_1 (Dense)              (None, 32)                2080      \n",
      "_________________________________________________________________\n",
      "dense_2 (Dense)              (None, 1)                 33        \n",
      "=================================================================\n",
      "Total params: 2,561\n",
      "Trainable params: 2,561\n",
      "Non-trainable params: 0\n",
      "_________________________________________________________________\n",
      "\n",
      "\n",
      "\n",
      "Failed to import pydot. You must install pydot and graphviz for `pydotprint` to work.\n"
     ]
    }
   ],
   "source": [
    "#모델 확인\n",
    "model.summary() #표로 출력\n",
    "print('\\n\\n')\n",
    "keras.utils.plot_model(model,'my.png', show_shapes=True) #이미지로 출력, 왜안될까...?"
   ]
  },
  {
   "cell_type": "code",
   "execution_count": 16,
   "metadata": {},
   "outputs": [
    {
     "name": "stdout",
     "output_type": "stream",
     "text": [
      "WARNING:tensorflow:Falling back from v2 loop because of error: Failed to find data adapter that can handle input: <class 'pandas.core.frame.DataFrame'>, <class 'NoneType'>\n"
     ]
    },
    {
     "data": {
      "text/plain": [
       "array([[ 0.48298562],\n",
       "       [ 0.5547806 ],\n",
       "       [-0.19080777],\n",
       "       [ 0.82280236],\n",
       "       [ 0.8097054 ]], dtype=float32)"
      ]
     },
     "execution_count": 16,
     "metadata": {},
     "output_type": "execute_result"
    }
   ],
   "source": [
    "#훈련 전 출력값 확인\n",
    "example_batch = normed_train_data[:5] #train data 중 5개 가져오기\n",
    "example_result = model.predict(example_batch) # .predict로 y값 계산\n",
    "example_result #물론 아직 실제값과는 차이가 크다."
   ]
  },
  {
   "cell_type": "code",
   "execution_count": 23,
   "metadata": {},
   "outputs": [
    {
     "name": "stdout",
     "output_type": "stream",
     "text": [
      "WARNING:tensorflow:Falling back from v2 loop because of error: Failed to find data adapter that can handle input: <class 'pandas.core.frame.DataFrame'>, <class 'NoneType'>\n",
      "Train on 251 samples, validate on 63 samples\n",
      "Epoch 1/100\n",
      "251/251 [==============================] - 0s 86us/sample - loss: 10.5278 - val_loss: 12.9524\n",
      "Epoch 2/100\n",
      "251/251 [==============================] - 0s 380us/sample - loss: 10.0026 - val_loss: 13.5374\n",
      "Epoch 3/100\n",
      "251/251 [==============================] - 0s 722us/sample - loss: 9.8968 - val_loss: 12.2056\n",
      "Epoch 4/100\n",
      "251/251 [==============================] - 0s 360us/sample - loss: 9.6140 - val_loss: 12.1402\n",
      "Epoch 5/100\n",
      "251/251 [==============================] - 0s 84us/sample - loss: 9.3928 - val_loss: 12.5313\n",
      "Epoch 6/100\n",
      "251/251 [==============================] - 0s 110us/sample - loss: 9.3757 - val_loss: 11.8760\n",
      "Epoch 7/100\n",
      "251/251 [==============================] - 0s 391us/sample - loss: 9.3192 - val_loss: 12.1159\n",
      "Epoch 8/100\n",
      "251/251 [==============================] - 0s 398us/sample - loss: 9.0029 - val_loss: 11.5349\n",
      "Epoch 9/100\n",
      "251/251 [==============================] - 0s 396us/sample - loss: 8.8098 - val_loss: 11.5209\n",
      "Epoch 10/100\n",
      "251/251 [==============================] - 0s 385us/sample - loss: 9.0566 - val_loss: 11.2739\n",
      "Epoch 11/100\n",
      "251/251 [==============================] - 0s 404us/sample - loss: 8.8230 - val_loss: 11.2234\n",
      "Epoch 12/100\n",
      "251/251 [==============================] - 0s 384us/sample - loss: 8.5950 - val_loss: 11.1390\n",
      "Epoch 13/100\n",
      "251/251 [==============================] - 0s 362us/sample - loss: 8.4700 - val_loss: 11.1119\n",
      "Epoch 14/100\n",
      "251/251 [==============================] - 0s 399us/sample - loss: 8.4232 - val_loss: 10.9977\n",
      "Epoch 15/100\n",
      "251/251 [==============================] - 0s 352us/sample - loss: 8.3428 - val_loss: 11.0965\n",
      "Epoch 16/100\n",
      "251/251 [==============================] - 0s 416us/sample - loss: 8.4553 - val_loss: 10.8927\n",
      "Epoch 17/100\n",
      "251/251 [==============================] - 0s 381us/sample - loss: 8.2914 - val_loss: 11.3202\n",
      "Epoch 18/100\n",
      "251/251 [==============================] - 0s 395us/sample - loss: 8.1189 - val_loss: 10.6027\n",
      "Epoch 19/100\n",
      "251/251 [==============================] - 0s 394us/sample - loss: 8.1841 - val_loss: 10.6126\n",
      "Epoch 20/100\n",
      "251/251 [==============================] - 0s 88us/sample - loss: 7.9027 - val_loss: 10.5396\n",
      "Epoch 21/100\n",
      "251/251 [==============================] - 0s 78us/sample - loss: 8.0385 - val_loss: 10.5833\n",
      "Epoch 22/100\n",
      "251/251 [==============================] - 0s 405us/sample - loss: 7.8932 - val_loss: 10.3839\n",
      "Epoch 23/100\n",
      "251/251 [==============================] - 0s 391us/sample - loss: 7.7562 - val_loss: 10.2024\n",
      "Epoch 24/100\n",
      "251/251 [==============================] - 0s 368us/sample - loss: 7.9141 - val_loss: 10.9568\n",
      "Epoch 25/100\n",
      "251/251 [==============================] - 0s 84us/sample - loss: 7.8626 - val_loss: 10.2319\n",
      "Epoch 26/100\n",
      "251/251 [==============================] - 0s 397us/sample - loss: 7.6521 - val_loss: 10.1020\n",
      "Epoch 27/100\n",
      "251/251 [==============================] - 0s 388us/sample - loss: 7.4435 - val_loss: 10.3961\n",
      "Epoch 28/100\n",
      "251/251 [==============================] - 0s 483us/sample - loss: 7.6366 - val_loss: 9.9094\n",
      "Epoch 29/100\n",
      "251/251 [==============================] - 0s 328us/sample - loss: 7.6536 - val_loss: 10.0616\n",
      "Epoch 30/100\n",
      "251/251 [==============================] - 0s 371us/sample - loss: 7.4423 - val_loss: 9.8557\n",
      "Epoch 31/100\n",
      "251/251 [==============================] - 0s 420us/sample - loss: 7.6704 - val_loss: 9.8255\n",
      "Epoch 32/100\n",
      "251/251 [==============================] - 0s 373us/sample - loss: 7.4587 - val_loss: 9.8700\n",
      "Epoch 33/100\n",
      "251/251 [==============================] - 0s 452us/sample - loss: 7.5671 - val_loss: 9.8408\n",
      "Epoch 34/100\n",
      "251/251 [==============================] - 0s 151us/sample - loss: 7.4995 - val_loss: 9.8928\n",
      "Epoch 35/100\n",
      "251/251 [==============================] - 0s 127us/sample - loss: 7.2549 - val_loss: 10.4262\n",
      "Epoch 36/100\n",
      "251/251 [==============================] - 0s 410us/sample - loss: 7.2909 - val_loss: 10.3527\n",
      "Epoch 37/100\n",
      "251/251 [==============================] - 0s 412us/sample - loss: 7.4281 - val_loss: 9.6766\n",
      "Epoch 38/100\n",
      "251/251 [==============================] - 0s 434us/sample - loss: 7.3097 - val_loss: 10.1127\n",
      "Epoch 39/100\n",
      "251/251 [==============================] - 0s 367us/sample - loss: 7.1286 - val_loss: 9.7991\n",
      "Epoch 40/100\n",
      "251/251 [==============================] - 0s 396us/sample - loss: 7.2024 - val_loss: 9.7163\n",
      "Epoch 41/100\n",
      "251/251 [==============================] - 0s 78us/sample - loss: 7.3128 - val_loss: 9.6762\n",
      "Epoch 42/100\n",
      "251/251 [==============================] - 0s 411us/sample - loss: 7.0923 - val_loss: 9.7296\n",
      "Epoch 43/100\n",
      "251/251 [==============================] - 0s 66us/sample - loss: 7.0248 - val_loss: 9.9765\n",
      "Epoch 44/100\n",
      "251/251 [==============================] - 0s 382us/sample - loss: 7.4012 - val_loss: 9.6403\n",
      "Epoch 45/100\n",
      "251/251 [==============================] - 0s 66us/sample - loss: 7.1084 - val_loss: 9.5613\n",
      "Epoch 46/100\n",
      "251/251 [==============================] - 0s 394us/sample - loss: 7.0848 - val_loss: 10.0042\n",
      "Epoch 47/100\n",
      "251/251 [==============================] - 0s 434us/sample - loss: 7.1376 - val_loss: 9.7076\n",
      "Epoch 48/100\n",
      "251/251 [==============================] - 0s 67us/sample - loss: 7.1610 - val_loss: 9.7006\n",
      "Epoch 49/100\n",
      "251/251 [==============================] - 0s 395us/sample - loss: 7.2069 - val_loss: 9.4265\n",
      "Epoch 50/100\n",
      "251/251 [==============================] - 0s 75us/sample - loss: 7.0165 - val_loss: 9.4947\n",
      "Epoch 51/100\n",
      "251/251 [==============================] - 0s 406us/sample - loss: 6.9877 - val_loss: 9.5796\n",
      "Epoch 52/100\n",
      "251/251 [==============================] - 0s 405us/sample - loss: 7.0809 - val_loss: 9.8411\n",
      "Epoch 53/100\n",
      "251/251 [==============================] - 0s 63us/sample - loss: 6.9386 - val_loss: 9.5420\n",
      "Epoch 54/100\n",
      "251/251 [==============================] - 0s 373us/sample - loss: 6.8733 - val_loss: 9.5435\n",
      "Epoch 55/100\n",
      "251/251 [==============================] - 0s 390us/sample - loss: 7.0078 - val_loss: 9.2788\n",
      "Epoch 56/100\n",
      "251/251 [==============================] - 0s 391us/sample - loss: 6.9141 - val_loss: 9.2127\n",
      "Epoch 57/100\n",
      "251/251 [==============================] - 0s 388us/sample - loss: 6.9362 - val_loss: 9.6970\n",
      "Epoch 58/100\n",
      "251/251 [==============================] - 0s 412us/sample - loss: 6.9784 - val_loss: 9.3520\n",
      "Epoch 59/100\n",
      "251/251 [==============================] - 0s 386us/sample - loss: 6.8925 - val_loss: 9.3430\n",
      "Epoch 60/100\n",
      "251/251 [==============================] - 0s 71us/sample - loss: 6.8131 - val_loss: 9.7996\n",
      "Epoch 61/100\n",
      "251/251 [==============================] - 0s 387us/sample - loss: 6.7521 - val_loss: 9.5224\n",
      "Epoch 62/100\n",
      "251/251 [==============================] - 0s 429us/sample - loss: 6.9829 - val_loss: 9.2209\n",
      "Epoch 63/100\n",
      "251/251 [==============================] - 0s 380us/sample - loss: 6.8748 - val_loss: 9.1349\n",
      "Epoch 64/100\n",
      "251/251 [==============================] - 0s 83us/sample - loss: 6.7916 - val_loss: 9.3088\n",
      "Epoch 65/100\n",
      "251/251 [==============================] - 0s 377us/sample - loss: 6.5388 - val_loss: 10.6885\n",
      "Epoch 66/100\n",
      "251/251 [==============================] - 0s 381us/sample - loss: 6.8673 - val_loss: 9.1292\n",
      "Epoch 67/100\n",
      "251/251 [==============================] - 0s 391us/sample - loss: 6.7314 - val_loss: 9.5590\n",
      "Epoch 68/100\n",
      "251/251 [==============================] - 0s 389us/sample - loss: 6.8194 - val_loss: 9.7174\n",
      "Epoch 69/100\n",
      "251/251 [==============================] - 0s 392us/sample - loss: 6.8111 - val_loss: 9.1823\n",
      "Epoch 70/100\n",
      "251/251 [==============================] - 0s 394us/sample - loss: 6.6873 - val_loss: 9.3855\n",
      "Epoch 71/100\n",
      "251/251 [==============================] - 0s 385us/sample - loss: 6.7509 - val_loss: 9.5659\n",
      "Epoch 72/100\n",
      "251/251 [==============================] - 0s 400us/sample - loss: 6.7992 - val_loss: 9.4086\n",
      "Epoch 73/100\n",
      "251/251 [==============================] - 0s 59us/sample - loss: 6.9858 - val_loss: 9.0587\n",
      "Epoch 74/100\n",
      "251/251 [==============================] - 0s 417us/sample - loss: 6.7042 - val_loss: 9.2895\n",
      "Epoch 75/100\n",
      "251/251 [==============================] - 0s 369us/sample - loss: 6.6662 - val_loss: 9.3065\n",
      "Epoch 76/100\n",
      "251/251 [==============================] - 0s 395us/sample - loss: 6.7060 - val_loss: 9.1210\n",
      "Epoch 77/100\n",
      "251/251 [==============================] - 0s 393us/sample - loss: 6.5996 - val_loss: 9.3482\n",
      "Epoch 78/100\n",
      "251/251 [==============================] - 0s 390us/sample - loss: 6.6136 - val_loss: 10.4334\n",
      "Epoch 79/100\n",
      "251/251 [==============================] - 0s 389us/sample - loss: 6.7759 - val_loss: 9.2449\n",
      "Epoch 80/100\n",
      "251/251 [==============================] - 0s 395us/sample - loss: 6.6546 - val_loss: 9.1557\n",
      "Epoch 81/100\n",
      "251/251 [==============================] - 0s 460us/sample - loss: 6.6828 - val_loss: 9.2533\n",
      "Epoch 82/100\n",
      "251/251 [==============================] - 0s 317us/sample - loss: 6.7375 - val_loss: 9.1094\n",
      "Epoch 83/100\n",
      "251/251 [==============================] - 0s 406us/sample - loss: 6.5975 - val_loss: 9.3363\n",
      "Epoch 84/100\n",
      "251/251 [==============================] - 0s 391us/sample - loss: 6.8146 - val_loss: 9.0872\n",
      "Epoch 85/100\n",
      "251/251 [==============================] - 0s 399us/sample - loss: 6.7327 - val_loss: 9.1275\n",
      "Epoch 86/100\n",
      "251/251 [==============================] - 0s 362us/sample - loss: 6.6046 - val_loss: 9.1732\n",
      "Epoch 87/100\n",
      "251/251 [==============================] - 0s 417us/sample - loss: 6.5070 - val_loss: 9.8126\n",
      "Epoch 88/100\n",
      "251/251 [==============================] - 0s 369us/sample - loss: 6.5679 - val_loss: 9.3096\n",
      "Epoch 89/100\n",
      "251/251 [==============================] - 0s 399us/sample - loss: 6.6034 - val_loss: 9.2106\n",
      "Epoch 90/100\n",
      "251/251 [==============================] - 0s 384us/sample - loss: 6.6367 - val_loss: 9.2145\n",
      "Epoch 91/100\n",
      "251/251 [==============================] - 0s 389us/sample - loss: 6.6326 - val_loss: 9.3911\n",
      "Epoch 92/100\n",
      "251/251 [==============================] - 0s 401us/sample - loss: 6.6913 - val_loss: 9.1577\n",
      "Epoch 93/100\n",
      "251/251 [==============================] - 0s 786us/sample - loss: 6.6212 - val_loss: 9.2606\n",
      "Epoch 94/100\n",
      "251/251 [==============================] - 0s 401us/sample - loss: 6.5916 - val_loss: 9.5882\n",
      "Epoch 95/100\n",
      "251/251 [==============================] - 0s 427us/sample - loss: 6.6919 - val_loss: 9.3848\n",
      "Epoch 96/100\n",
      "251/251 [==============================] - 0s 383us/sample - loss: 6.4884 - val_loss: 9.2659\n",
      "Epoch 97/100\n",
      "251/251 [==============================] - 0s 354us/sample - loss: 6.4904 - val_loss: 9.4542\n",
      "Epoch 98/100\n",
      "251/251 [==============================] - 0s 380us/sample - loss: 6.4607 - val_loss: 9.1903\n",
      "Epoch 99/100\n",
      "251/251 [==============================] - 0s 396us/sample - loss: 6.4761 - val_loss: 9.1503\n",
      "Epoch 100/100\n",
      "251/251 [==============================] - 0s 404us/sample - loss: 6.8120 - val_loss: 9.2140\n"
     ]
    }
   ],
   "source": [
    "#모델 훈련\n",
    "\n",
    "EPOCHS = 100 # 1epoch = 모든 데이터 1바퀴\n",
    "\n",
    "history = model.fit(\n",
    "    normed_train_data, \n",
    "    train_labels , \n",
    "    epochs=EPOCHS ,  \n",
    "    validation_split = 0.2 #과적합 여부 판단을 위해 분리해놓은 데이터\n",
    ")"
   ]
  },
  {
   "cell_type": "code",
   "execution_count": 22,
   "metadata": {},
   "outputs": [
    {
     "ename": "ValueError",
     "evalue": "Failed to find data adapter that can handle input: <class 'int'>, <class 'pandas.core.series.Series'>",
     "output_type": "error",
     "traceback": [
      "\u001b[0;31m---------------------------------------------------------------------------\u001b[0m",
      "\u001b[0;31mValueError\u001b[0m                                Traceback (most recent call last)",
      "\u001b[0;32m<ipython-input-22-5724dfd8ec24>\u001b[0m in \u001b[0;36m<module>\u001b[0;34m\u001b[0m\n\u001b[1;32m      7\u001b[0m     \u001b[0mepochs\u001b[0m\u001b[0;34m=\u001b[0m\u001b[0mEPOCHS\u001b[0m \u001b[0;34m,\u001b[0m\u001b[0;34m\u001b[0m\u001b[0;34m\u001b[0m\u001b[0m\n\u001b[1;32m      8\u001b[0m     \u001b[0mvalidation_split\u001b[0m \u001b[0;34m=\u001b[0m \u001b[0;36m0.2\u001b[0m \u001b[0;34m,\u001b[0m \u001b[0;31m#과적합 여부 판단을 위해 분리해놓은 데이터\u001b[0m\u001b[0;34m\u001b[0m\u001b[0;34m\u001b[0m\u001b[0m\n\u001b[0;32m----> 9\u001b[0;31m     \u001b[0mcallbacks\u001b[0m\u001b[0;34m=\u001b[0m\u001b[0;34m[\u001b[0m\u001b[0mearly_stop\u001b[0m\u001b[0;34m]\u001b[0m\u001b[0;34m\u001b[0m\u001b[0;34m\u001b[0m\u001b[0m\n\u001b[0m\u001b[1;32m     10\u001b[0m )\n",
      "\u001b[0;32m/usr/local/lib/python3.7/site-packages/tensorflow_core/python/keras/engine/training.py\u001b[0m in \u001b[0;36mfit\u001b[0;34m(self, x, y, batch_size, epochs, verbose, callbacks, validation_split, validation_data, shuffle, class_weight, sample_weight, initial_epoch, steps_per_epoch, validation_steps, validation_freq, max_queue_size, workers, use_multiprocessing, **kwargs)\u001b[0m\n\u001b[1;32m    726\u001b[0m         \u001b[0mmax_queue_size\u001b[0m\u001b[0;34m=\u001b[0m\u001b[0mmax_queue_size\u001b[0m\u001b[0;34m,\u001b[0m\u001b[0;34m\u001b[0m\u001b[0;34m\u001b[0m\u001b[0m\n\u001b[1;32m    727\u001b[0m         \u001b[0mworkers\u001b[0m\u001b[0;34m=\u001b[0m\u001b[0mworkers\u001b[0m\u001b[0;34m,\u001b[0m\u001b[0;34m\u001b[0m\u001b[0;34m\u001b[0m\u001b[0m\n\u001b[0;32m--> 728\u001b[0;31m         use_multiprocessing=use_multiprocessing)\n\u001b[0m\u001b[1;32m    729\u001b[0m \u001b[0;34m\u001b[0m\u001b[0m\n\u001b[1;32m    730\u001b[0m   def evaluate(self,\n",
      "\u001b[0;32m/usr/local/lib/python3.7/site-packages/tensorflow_core/python/keras/engine/training_v2.py\u001b[0m in \u001b[0;36mfit\u001b[0;34m(self, model, x, y, batch_size, epochs, verbose, callbacks, validation_split, validation_data, shuffle, class_weight, sample_weight, initial_epoch, steps_per_epoch, validation_steps, validation_freq, **kwargs)\u001b[0m\n\u001b[1;32m    222\u001b[0m           \u001b[0mvalidation_data\u001b[0m\u001b[0;34m=\u001b[0m\u001b[0mvalidation_data\u001b[0m\u001b[0;34m,\u001b[0m\u001b[0;34m\u001b[0m\u001b[0;34m\u001b[0m\u001b[0m\n\u001b[1;32m    223\u001b[0m           \u001b[0mvalidation_steps\u001b[0m\u001b[0;34m=\u001b[0m\u001b[0mvalidation_steps\u001b[0m\u001b[0;34m,\u001b[0m\u001b[0;34m\u001b[0m\u001b[0;34m\u001b[0m\u001b[0m\n\u001b[0;32m--> 224\u001b[0;31m           distribution_strategy=strategy)\n\u001b[0m\u001b[1;32m    225\u001b[0m \u001b[0;34m\u001b[0m\u001b[0m\n\u001b[1;32m    226\u001b[0m       \u001b[0mtotal_samples\u001b[0m \u001b[0;34m=\u001b[0m \u001b[0m_get_total_number_of_samples\u001b[0m\u001b[0;34m(\u001b[0m\u001b[0mtraining_data_adapter\u001b[0m\u001b[0;34m)\u001b[0m\u001b[0;34m\u001b[0m\u001b[0;34m\u001b[0m\u001b[0m\n",
      "\u001b[0;32m/usr/local/lib/python3.7/site-packages/tensorflow_core/python/keras/engine/training_v2.py\u001b[0m in \u001b[0;36m_process_training_inputs\u001b[0;34m(model, x, y, batch_size, epochs, sample_weights, class_weights, steps_per_epoch, validation_split, validation_data, validation_steps, shuffle, distribution_strategy, max_queue_size, workers, use_multiprocessing)\u001b[0m\n\u001b[1;32m    495\u001b[0m                      'at same time.')\n\u001b[1;32m    496\u001b[0m \u001b[0;34m\u001b[0m\u001b[0m\n\u001b[0;32m--> 497\u001b[0;31m   \u001b[0madapter_cls\u001b[0m \u001b[0;34m=\u001b[0m \u001b[0mdata_adapter\u001b[0m\u001b[0;34m.\u001b[0m\u001b[0mselect_data_adapter\u001b[0m\u001b[0;34m(\u001b[0m\u001b[0mx\u001b[0m\u001b[0;34m,\u001b[0m \u001b[0my\u001b[0m\u001b[0;34m)\u001b[0m\u001b[0;34m\u001b[0m\u001b[0;34m\u001b[0m\u001b[0m\n\u001b[0m\u001b[1;32m    498\u001b[0m \u001b[0;34m\u001b[0m\u001b[0m\n\u001b[1;32m    499\u001b[0m   \u001b[0;31m# Handle validation_split, we want to split the data and get the training\u001b[0m\u001b[0;34m\u001b[0m\u001b[0;34m\u001b[0m\u001b[0;34m\u001b[0m\u001b[0m\n",
      "\u001b[0;32m/usr/local/lib/python3.7/site-packages/tensorflow_core/python/keras/engine/data_adapter.py\u001b[0m in \u001b[0;36mselect_data_adapter\u001b[0;34m(x, y)\u001b[0m\n\u001b[1;32m    651\u001b[0m         \u001b[0;34m\"Failed to find data adapter that can handle \"\u001b[0m\u001b[0;34m\u001b[0m\u001b[0;34m\u001b[0m\u001b[0m\n\u001b[1;32m    652\u001b[0m         \"input: {}, {}\".format(\n\u001b[0;32m--> 653\u001b[0;31m             _type_name(x), _type_name(y)))\n\u001b[0m\u001b[1;32m    654\u001b[0m   \u001b[0;32melif\u001b[0m \u001b[0mlen\u001b[0m\u001b[0;34m(\u001b[0m\u001b[0madapter_cls\u001b[0m\u001b[0;34m)\u001b[0m \u001b[0;34m>\u001b[0m \u001b[0;36m1\u001b[0m\u001b[0;34m:\u001b[0m\u001b[0;34m\u001b[0m\u001b[0;34m\u001b[0m\u001b[0m\n\u001b[1;32m    655\u001b[0m     raise RuntimeError(\n",
      "\u001b[0;31mValueError\u001b[0m: Failed to find data adapter that can handle input: <class 'int'>, <class 'pandas.core.series.Series'>"
     ]
    }
   ],
   "source": [
    "# patience : n회 이상 val_loss가 줄지 않을때 stop\n",
    "early_stop = keras.callbacks.EarlyStopping(monitor='val_loss' , patience=10)\n",
    "\n",
    "model.fit(\n",
    "    normed_train_data, \n",
    "    train_labels , \n",
    "    epochs=EPOCHS ,  \n",
    "    validation_split = 0.2 , #과적합 여부 판단을 위해 분리해놓은 데이터\n",
    "    callbacks=[early_stop]\n",
    ")"
   ]
  },
  {
   "cell_type": "code",
   "execution_count": 24,
   "metadata": {},
   "outputs": [
    {
     "name": "stdout",
     "output_type": "stream",
     "text": [
      "WARNING:tensorflow:Falling back from v2 loop because of error: Failed to find data adapter that can handle input: <class 'pandas.core.frame.DataFrame'>, <class 'NoneType'>\n",
      "78/78 - 0s - loss: 6.5170\n"
     ]
    }
   ],
   "source": [
    "loss = model.evaluate(normed_test_data, test_labels, verbose=2)"
   ]
  },
  {
   "cell_type": "code",
   "execution_count": null,
   "metadata": {},
   "outputs": [],
   "source": []
  },
  {
   "cell_type": "code",
   "execution_count": 25,
   "metadata": {},
   "outputs": [
    {
     "name": "stdout",
     "output_type": "stream",
     "text": [
      "WARNING:tensorflow:Falling back from v2 loop because of error: Failed to find data adapter that can handle input: <class 'pandas.core.frame.DataFrame'>, <class 'NoneType'>\n"
     ]
    },
    {
     "data": {
      "image/png": "[encoded data removed]",
      "text/plain": [
       "<Figure size 432x288 with 1 Axes>"
      ]
     },
     "metadata": {
      "needs_background": "light"
     },
     "output_type": "display_data"
    }
   ],
   "source": [
    "#예측\n",
    "\n",
    "\n",
    "test_predictions = model.predict(normed_test_data).flatten()\n",
    "\n",
    "plt.scatter(test_labels, test_predictions)\n",
    "plt.xlabel('True Values [MPG]')\n",
    "plt.ylabel('Predictions [MPG]')\n",
    "plt.axis('equal')\n",
    "plt.axis('square')\n",
    "plt.xlim([0,plt.xlim()[1]])\n",
    "plt.ylim([0,plt.ylim()[1]])\n",
    "_ = plt.plot([-100, 100], [-100, 100])\n"
   ]
  },
  {
   "cell_type": "code",
   "execution_count": 52,
   "metadata": {},
   "outputs": [
    {
     "data": {
      "text/plain": [
       "<matplotlib.collections.PathCollection at 0x7f513c3f5dd0>"
      ]
     },
     "execution_count": 52,
     "metadata": {},
     "output_type": "execute_result"
    },
    {
     "data": {
      "image/png": "[encoded data removed]",
      "text/plain": [
       "<Figure size 720x504 with 6 Axes>"
      ]
     },
     "metadata": {
      "needs_background": "light"
     },
     "output_type": "display_data"
    }
   ],
   "source": [
    "plt.figure(figsize=(10,7))\n",
    "plt.subplot(231)\n",
    "plt.scatter(test_dataset['Cylinders'], test_labels)\n",
    "plt.scatter(test_dataset['Cylinders'], test_predictions)\n",
    "plt.subplot(232)\n",
    "plt.scatter(test_dataset['Displacement'], test_labels)\n",
    "plt.scatter(test_dataset['Displacement'], test_predictions)\n",
    "plt.subplot(233)\n",
    "plt.scatter(test_dataset['Horsepower'], test_labels)\n",
    "plt.scatter(test_dataset['Horsepower'], test_predictions)\n",
    "plt.subplot(234)\n",
    "plt.scatter(test_dataset['Weight'], test_labels)\n",
    "plt.scatter(test_dataset['Weight'], test_predictions)\n",
    "plt.subplot(235)\n",
    "plt.scatter(test_dataset['Acceleration'], test_labels)\n",
    "plt.scatter(test_dataset['Acceleration'], test_predictions)\n",
    "plt.subplot(236)\n",
    "plt.scatter(test_dataset['Model Year'], test_labels)\n",
    "plt.scatter(test_dataset['Model Year'], test_predictions)"
   ]
  },
  {
   "cell_type": "code",
   "execution_count": 44,
   "metadata": {},
   "outputs": [
    {
     "data": {
      "text/html": [
       "<div>\n",
       "<style scoped>\n",
       "    .dataframe tbody tr th:only-of-type {\n",
       "        vertical-align: middle;\n",
       "    }\n",
       "\n",
       "    .dataframe tbody tr th {\n",
       "        vertical-align: top;\n",
       "    }\n",
       "\n",
       "    .dataframe thead th {\n",
       "        text-align: right;\n",
       "    }\n",
       "</style>\n",
       "<table border=\"1\" class=\"dataframe\">\n",
       "  <thead>\n",
       "    <tr style=\"text-align: right;\">\n",
       "      <th></th>\n",
       "      <th>Cylinders</th>\n",
       "      <th>Displacement</th>\n",
       "      <th>Horsepower</th>\n",
       "      <th>Weight</th>\n",
       "      <th>Acceleration</th>\n",
       "      <th>Model Year</th>\n",
       "    </tr>\n",
       "  </thead>\n",
       "  <tbody>\n",
       "    <tr>\n",
       "      <th>9</th>\n",
       "      <td>8</td>\n",
       "      <td>390.0</td>\n",
       "      <td>190.0</td>\n",
       "      <td>3850.0</td>\n",
       "      <td>8.5</td>\n",
       "      <td>70</td>\n",
       "    </tr>\n",
       "    <tr>\n",
       "      <th>25</th>\n",
       "      <td>8</td>\n",
       "      <td>360.0</td>\n",
       "      <td>215.0</td>\n",
       "      <td>4615.0</td>\n",
       "      <td>14.0</td>\n",
       "      <td>70</td>\n",
       "    </tr>\n",
       "    <tr>\n",
       "      <th>28</th>\n",
       "      <td>8</td>\n",
       "      <td>304.0</td>\n",
       "      <td>193.0</td>\n",
       "      <td>4732.0</td>\n",
       "      <td>18.5</td>\n",
       "      <td>70</td>\n",
       "    </tr>\n",
       "    <tr>\n",
       "      <th>31</th>\n",
       "      <td>4</td>\n",
       "      <td>113.0</td>\n",
       "      <td>95.0</td>\n",
       "      <td>2228.0</td>\n",
       "      <td>14.0</td>\n",
       "      <td>71</td>\n",
       "    </tr>\n",
       "    <tr>\n",
       "      <th>33</th>\n",
       "      <td>6</td>\n",
       "      <td>232.0</td>\n",
       "      <td>100.0</td>\n",
       "      <td>2634.0</td>\n",
       "      <td>13.0</td>\n",
       "      <td>71</td>\n",
       "    </tr>\n",
       "    <tr>\n",
       "      <th>...</th>\n",
       "      <td>...</td>\n",
       "      <td>...</td>\n",
       "      <td>...</td>\n",
       "      <td>...</td>\n",
       "      <td>...</td>\n",
       "      <td>...</td>\n",
       "    </tr>\n",
       "    <tr>\n",
       "      <th>369</th>\n",
       "      <td>4</td>\n",
       "      <td>112.0</td>\n",
       "      <td>88.0</td>\n",
       "      <td>2395.0</td>\n",
       "      <td>18.0</td>\n",
       "      <td>82</td>\n",
       "    </tr>\n",
       "    <tr>\n",
       "      <th>375</th>\n",
       "      <td>4</td>\n",
       "      <td>105.0</td>\n",
       "      <td>74.0</td>\n",
       "      <td>1980.0</td>\n",
       "      <td>15.3</td>\n",
       "      <td>82</td>\n",
       "    </tr>\n",
       "    <tr>\n",
       "      <th>382</th>\n",
       "      <td>4</td>\n",
       "      <td>108.0</td>\n",
       "      <td>70.0</td>\n",
       "      <td>2245.0</td>\n",
       "      <td>16.9</td>\n",
       "      <td>82</td>\n",
       "    </tr>\n",
       "    <tr>\n",
       "      <th>384</th>\n",
       "      <td>4</td>\n",
       "      <td>91.0</td>\n",
       "      <td>67.0</td>\n",
       "      <td>1965.0</td>\n",
       "      <td>15.7</td>\n",
       "      <td>82</td>\n",
       "    </tr>\n",
       "    <tr>\n",
       "      <th>396</th>\n",
       "      <td>4</td>\n",
       "      <td>120.0</td>\n",
       "      <td>79.0</td>\n",
       "      <td>2625.0</td>\n",
       "      <td>18.6</td>\n",
       "      <td>82</td>\n",
       "    </tr>\n",
       "  </tbody>\n",
       "</table>\n",
       "<p>78 rows × 6 columns</p>\n",
       "</div>"
      ],
      "text/plain": [
       "     Cylinders  Displacement  Horsepower  Weight  Acceleration  Model Year\n",
       "9            8         390.0       190.0  3850.0           8.5          70\n",
       "25           8         360.0       215.0  4615.0          14.0          70\n",
       "28           8         304.0       193.0  4732.0          18.5          70\n",
       "31           4         113.0        95.0  2228.0          14.0          71\n",
       "33           6         232.0       100.0  2634.0          13.0          71\n",
       "..         ...           ...         ...     ...           ...         ...\n",
       "369          4         112.0        88.0  2395.0          18.0          82\n",
       "375          4         105.0        74.0  1980.0          15.3          82\n",
       "382          4         108.0        70.0  2245.0          16.9          82\n",
       "384          4          91.0        67.0  1965.0          15.7          82\n",
       "396          4         120.0        79.0  2625.0          18.6          82\n",
       "\n",
       "[78 rows x 6 columns]"
      ]
     },
     "execution_count": 44,
     "metadata": {},
     "output_type": "execute_result"
    }
   ],
   "source": []
  },
  {
   "cell_type": "code",
   "execution_count": null,
   "metadata": {},
   "outputs": [],
   "source": []
  }
 ],
 "metadata": {
  "kernelspec": {
   "display_name": "Python 3",
   "language": "python",
   "name": "python3"
  },
  "language_info": {
   "codemirror_mode": {
    "name": "ipython",
    "version": 3
   },
   "file_extension": ".py",
   "mimetype": "text/x-python",
   "name": "python",
   "nbconvert_exporter": "python",
   "pygments_lexer": "ipython3",
   "version": "3.7.4"
  }
 },
 "nbformat": 4,
 "nbformat_minor": 4
}
